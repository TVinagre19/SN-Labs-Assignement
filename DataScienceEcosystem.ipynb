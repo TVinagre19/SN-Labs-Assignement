{
 "cells": [
  {
   "cell_type": "markdown",
   "id": "81cc69ff-90d6-45f2-b32e-ec087278068f",
   "metadata": {},
   "source": [
    "# Data Science Tools and Ecosystem"
   ]
  },
  {
   "cell_type": "markdown",
   "id": "99fb50f3-a501-49c3-a5aa-d8de6e5ec46e",
   "metadata": {},
   "source": [
    "In this notebook, Data Science Tools and Ecosystem are summarized."
   ]
  },
  {
   "cell_type": "markdown",
   "id": "cb39838b-50d2-42ba-bcd2-63eef52b306d",
   "metadata": {},
   "source": [
    "**Objectives:**\n",
    "Some of the popular languages that Data Scientists use are:\n",
    "* Python\n",
    "* R\n",
    "* Julia\n",
    "* SQL\n",
    "* JAVA\n",
    "* C++"
   ]
  },
  {
   "cell_type": "markdown",
   "id": "ef6cbc3d-bb44-4f7f-936e-963a34a3003e",
   "metadata": {},
   "source": [
    "Some of the popular languages that Data Scientists use are:\n",
    "1. Python\n",
    "2. R\n",
    "3. Julia\n",
    "4. SQL\n",
    "5. JAVA\n",
    "6. C++"
   ]
  },
  {
   "cell_type": "markdown",
   "id": "aa2ab819-2db0-4cc7-b15b-9438bbfa6372",
   "metadata": {},
   "source": [
    "Some of the commonly used libraries used by Data Scientists include:\n",
    "1. Pandas\n",
    "2. NumPy\n",
    "3. Matplotlib\n",
    "4. Scikit-learn\n",
    "5. TensorFlow"
   ]
  },
  {
   "cell_type": "markdown",
   "id": "5196a64f-ebd3-47f1-bbbb-c23ebcf9d1d7",
   "metadata": {},
   "source": [
    "| Data Science Tools |\n",
    "| -------------------|\n",
    "| JupyterLab |\n",
    "| VS Code |\n",
    "| RStudio|"
   ]
  },
  {
   "cell_type": "markdown",
   "id": "b79cfa6b-f408-47cd-9d38-fe4122466d9f",
   "metadata": {},
   "source": [
    "### Below are a few examples of evaluating arithmetic expressions in Python"
   ]
  },
  {
   "cell_type": "code",
   "execution_count": 5,
   "id": "33681cee-1f2b-4dfa-bf1a-edbe4986c9e6",
   "metadata": {},
   "outputs": [
    {
     "data": {
      "text/plain": [
       "17"
      ]
     },
     "execution_count": 5,
     "metadata": {},
     "output_type": "execute_result"
    }
   ],
   "source": [
    "# This a simple arithmetic expression to multiply then add integers\n",
    "(3*4)+5"
   ]
  },
  {
   "cell_type": "code",
   "execution_count": 6,
   "id": "dc746dc4-d6b3-4d70-9cb1-3dd7b8adbdbf",
   "metadata": {},
   "outputs": [
    {
     "data": {
      "text/plain": [
       "3.3333333333333335"
      ]
     },
     "execution_count": 6,
     "metadata": {},
     "output_type": "execute_result"
    }
   ],
   "source": [
    "# This will convert 200 minutes to hours by diving by 60\n",
    "200 / 60"
   ]
  },
  {
   "cell_type": "markdown",
   "id": "a3ea771a-c3ab-4f9a-9faa-b550183c8e5a",
   "metadata": {},
   "source": [
    "## Author\n",
    "Tiago Vinagre"
   ]
  },
  {
   "cell_type": "code",
   "execution_count": null,
   "id": "8f8a424c-3286-4b22-83ba-762ba78a0f57",
   "metadata": {},
   "outputs": [],
   "source": []
  }
 ],
 "metadata": {
  "kernelspec": {
   "display_name": "Python 3 (ipykernel)",
   "language": "python",
   "name": "python3"
  },
  "language_info": {
   "codemirror_mode": {
    "name": "ipython",
    "version": 3
   },
   "file_extension": ".py",
   "mimetype": "text/x-python",
   "name": "python",
   "nbconvert_exporter": "python",
   "pygments_lexer": "ipython3",
   "version": "3.11.9"
  }
 },
 "nbformat": 4,
 "nbformat_minor": 5
}
